{
 "cells": [
  {
   "cell_type": "markdown",
   "id": "e2787b56-5bd0-47a3-b318-2d158f62d9f3",
   "metadata": {},
   "source": [
    "Implementing the unsupervised training of Matryoshka-Adaptors <br/>\n",
    "With the currently set parameters, the code trains on the SciFact corpus using the unsupervised objectve. <br/>\n",
    "Afterwards, the adaptor's retrieval performance is evaluated on the SciFact test dataset. <br/>\n",
    "Note: You can instead train on MSMARCO by setting: tr_dataset_name = \"msmarco\""
   ]
  },
  {
   "cell_type": "code",
   "execution_count": 1,
   "id": "d3d55a0d-420e-4b4f-80c6-6b974e039484",
   "metadata": {},
   "outputs": [
    {
     "name": "stderr",
     "output_type": "stream",
     "text": [
      "/home/skunk/.conda/envs/LLMs/lib/python3.9/site-packages/beir/util.py:2: TqdmExperimentalWarning: Using `tqdm.autonotebook.tqdm` in notebook mode. Use `tqdm.tqdm` instead to force console mode (e.g. in jupyter console)\n",
      "  from tqdm.autonotebook import tqdm\n"
     ]
    }
   ],
   "source": [
    "from beir import util, LoggingHandler\n",
    "from beir.datasets.data_loader import GenericDataLoader\n",
    "from sentence_transformers import SentenceTransformer\n",
    "\n",
    "import torch\n",
    "import torch.optim as optim\n",
    "from torch import nn\n",
    "\n",
    "import numpy as np\n",
    "import os\n",
    "\n",
    "import faiss\n",
    "import random\n",
    "import mteb\n",
    "from mteb import MTEB\n",
    "from torch.utils.data import DataLoader, Dataset\n",
    "import matplotlib.pyplot as plt\n",
    "\n",
    "from typing import Dict, Union"
   ]
  },
  {
   "cell_type": "code",
   "execution_count": 2,
   "id": "e84e96bb-8b3f-4f62-997f-de9481d233de",
   "metadata": {},
   "outputs": [
    {
     "data": {
      "text/plain": [
       "<torch._C.Generator at 0x7fbe72f61190>"
      ]
     },
     "execution_count": 2,
     "metadata": {},
     "output_type": "execute_result"
    }
   ],
   "source": [
    "# setting the random seed to improve reproducibility\n",
    "random_seed = 0\n",
    "\n",
    "python_random = random.Random(random_seed)\n",
    "torch.manual_seed(random_seed)"
   ]
  },
  {
   "cell_type": "markdown",
   "id": "0d668c2c-64cb-4f10-aa13-85f2c6deeb22",
   "metadata": {},
   "source": [
    "### Hyperparameters"
   ]
  },
  {
   "cell_type": "code",
   "execution_count": 3,
   "id": "8e1f21b1-def1-4877-a461-646a777ecb77",
   "metadata": {},
   "outputs": [],
   "source": [
    "# Most hyperparameters are copied from Appendix B of the paper\n",
    "\n",
    "base_encoder = \"sentence-transformers/all-MiniLM-L6-v2\"\n",
    "embedding_dim = 384\n",
    "m_values = [64, 128, 256, 384]\n",
    "\n",
    "# Matryoshka Adaptor hyperparameters\n",
    "ma_hidden_dim = 1024\n",
    "\n",
    "# Training hyperparameters\n",
    "tr_dataset_name = \"scifact\"\n",
    "max_num_tr_datapoints = 50000\n",
    "\n",
    "k = 5 # number of nearest neighbours\n",
    "batch_size = 128\n",
    "optimizer_fn = lambda params: optim.Adam(params, lr=0.001)\n",
    "patience = 500\n",
    "max_tr_iterations = 5000\n",
    "\n",
    "# Evaluation parameters\n",
    "eval_dataset_name = \"scifact\"\n",
    "\n",
    "device = \"cuda\" if torch.cuda.is_available() else \"cpu\""
   ]
  },
  {
   "cell_type": "markdown",
   "id": "345f8f49-6713-4111-8942-0dbd76a0d209",
   "metadata": {},
   "source": [
    "### Adaptor Model"
   ]
  },
  {
   "cell_type": "code",
   "execution_count": 4,
   "id": "c3408dc3-fd03-47e4-9d7e-46ae79d88db6",
   "metadata": {},
   "outputs": [],
   "source": [
    "class SwiGLU(nn.Module):\n",
    "    def __init__(self, dim_in, dim_out):\n",
    "        super(SwiGLU, self).__init__()\n",
    "        self.linear_1 = nn.Linear(dim_in, dim_out)\n",
    "        self.linear_2 = nn.Linear(dim_in, dim_out)\n",
    "    \n",
    "    def forward(self, x):\n",
    "        # First linear projection followed by SiLU (Sigmoid Linear Unit)\n",
    "        x1 = torch.nn.functional.silu(self.linear_1(x))\n",
    "        # Second linear projection\n",
    "        x2 = self.linear_2(x)\n",
    "        # Element-wise multiplication\n",
    "        return x1 * x2\n",
    "\n",
    "class MatryoshkaAdaptor(nn.Module):\n",
    "    def __init__(self, embedding_dim, hidden_dim):\n",
    "        super(MatryoshkaAdaptor, self).__init__()\n",
    "        self.layer1 = SwiGLU(embedding_dim, hidden_dim)\n",
    "        self.layer2 = nn.Linear(hidden_dim, embedding_dim)\n",
    "\n",
    "    def forward(self, x: Union[torch.Tensor, Dict[str, torch.Tensor]]):\n",
    "        if isinstance(x, Dict):\n",
    "            inputs = x[\"sentence_embedding\"]\n",
    "        else:\n",
    "            inputs = x            \n",
    "\n",
    "        out = self.layer1(inputs)\n",
    "        out = self.layer2(out)\n",
    "        out = out + inputs  # Skip connection\n",
    "        \n",
    "        if isinstance(x, Dict):\n",
    "            x[\"sentence_embedding\"] = out\n",
    "            return x\n",
    "        else:\n",
    "            return out"
   ]
  },
  {
   "cell_type": "markdown",
   "id": "bb1f095d-4aed-4849-87dd-c6d86b2dc332",
   "metadata": {},
   "source": [
    "## Data Prep Functions"
   ]
  },
  {
   "cell_type": "code",
   "execution_count": 5,
   "id": "81814d64-a00d-49a7-94e8-025f8f9678ea",
   "metadata": {},
   "outputs": [],
   "source": [
    "def load_and_preprocess_data(dataset_name, model_name, batch_size=512):\n",
    "    # 1) Load the BEIR dataset\n",
    "    url = f\"https://public.ukp.informatik.tu-darmstadt.de/thakur/BEIR/datasets/{dataset_name}.zip\"\n",
    "    data_path = util.download_and_unzip(url, f\"./datasets/{dataset_name}\")\n",
    "    corpus, queries, qrels = GenericDataLoader(data_folder=data_path).load(split=\"train\")\n",
    "\n",
    "    corpus_keys = list(corpus.keys())\n",
    "    if len(corpus) > max_num_tr_datapoints:\n",
    "        corpus_keys = python_random.sample(corpus_keys, max_num_tr_datapoints)\n",
    "    \n",
    "    print(f\"Num training data points : {len(corpus_keys)}\")\n",
    "    \n",
    "    # 2) Load a sentence transformer model\n",
    "    model = SentenceTransformer(model_name)\n",
    "    model = model.to(device)\n",
    "    \n",
    "    # 3) Process the corpus into embeddings\n",
    "    corpus_texts = [corpus[doc_id]['text'] for doc_id in corpus_keys]\n",
    "    corpus_embeddings = model.encode(corpus_texts, convert_to_numpy=False,\n",
    "                                     show_progress_bar=True, batch_size=batch_size)\n",
    "    # Convert list of tensors to a single tensor\n",
    "    corpus_embeddings = torch.stack(corpus_embeddings)\n",
    "    \n",
    "    # 4) Unload the dataset and model from memory\n",
    "    del corpus\n",
    "    del model\n",
    "    torch.cuda.empty_cache()\n",
    "\n",
    "    # 5) Return the embeddings\n",
    "    return corpus_embeddings"
   ]
  },
  {
   "cell_type": "code",
   "execution_count": 6,
   "id": "04b06149-679e-42fb-92c5-9d09c6081292",
   "metadata": {},
   "outputs": [],
   "source": [
    "def compute_knn_cosine(embeddings: torch.Tensor, k=5):\n",
    "    embeddings = embeddings.cpu().numpy()\n",
    "    # 1) Ensure the embeddings are in float32 format as required by FAISS\n",
    "    embeddings = np.array(embeddings, dtype=np.float32)\n",
    "    \n",
    "    # 2) Initialize FAISS index (Inner Product)\n",
    "    d = embeddings.shape[1]  # Dimension of the embeddings\n",
    "    index = faiss.IndexFlatIP(d)  # Flat index for Inner Product (dot product)\n",
    "    \n",
    "    # 3) Add embeddings to the FAISS index\n",
    "    index.add(embeddings)\n",
    "    \n",
    "    # 4) Perform k-nearest neighbor search for k+1 neighbors to include self-match\n",
    "    distances, indices = index.search(embeddings, k + 1)\n",
    "    \n",
    "    # 5) Remove the first neighbor (which is the item itself)\n",
    "    indices = indices[:, 1:]  # Remove the first column (self-match)\n",
    "    \n",
    "    # 6) Return the indices of the k-nearest neighbors (shape: N x k)\n",
    "    return indices\n"
   ]
  },
  {
   "cell_type": "markdown",
   "id": "597035cc-1e5b-4023-b94d-a75146cdf4a6",
   "metadata": {},
   "source": [
    "### Matryoshka-Adaptor Losses"
   ]
  },
  {
   "cell_type": "code",
   "execution_count": 7,
   "id": "a124d6d2-ed11-42b8-b62e-33dc6705b0bf",
   "metadata": {},
   "outputs": [],
   "source": [
    "def loss_rec(embeddings, transformed_embeddings):\n",
    "    # implementing L_rec (Eq. 3)\n",
    "    \n",
    "    # normalize the transformed_embeddings to length 1\n",
    "    transformed_embeddings_normalized = torch.nn.functional.normalize(transformed_embeddings, p=2, dim=1)\n",
    "    \n",
    "    batch_size = embeddings.shape[0]\n",
    "    # Can change: Do I divide by (batch_size * num_dimensions), or only batch_size\n",
    "    return torch.abs(embeddings - transformed_embeddings_normalized).mean()"
   ]
  },
  {
   "cell_type": "code",
   "execution_count": 8,
   "id": "c0766a7b-058a-4fd2-b6dd-da7e9c5af54b",
   "metadata": {},
   "outputs": [],
   "source": [
    "def loss_pair(embeddings, transformed_embeddings):\n",
    "    batch_size = embeddings.shape[0]\n",
    "    \n",
    "    # getting the upper triangle of a symmtric matrix to avoid redundancy\n",
    "    upper_triangle_embeddings_similarities = torch.triu((embeddings @ embeddings.T), diagonal=0)\n",
    "\n",
    "    loss_pair = 0.\n",
    "    for m in m_values:\n",
    "        c_transformed_embeddings = transformed_embeddings[:, :m]\n",
    "        # normalize the truncated embeddings\n",
    "        c_transformed_embeddings = torch.nn.functional.normalize(c_transformed_embeddings, p=2, dim=1)\n",
    "        \n",
    "        upper_triangle_matryoshka_embeddings_similarities = torch.triu((c_transformed_embeddings@c_transformed_embeddings.T), diagonal=0)\n",
    "        loss_pair += torch.abs(upper_triangle_embeddings_similarities - upper_triangle_matryoshka_embeddings_similarities)\n",
    "\n",
    "    # normalize by batch_size * num_dimensions \n",
    "    # Decision atm: don't divide by len(m_values) since all of these could be seen as a different loss of equal importance to loss_rec\n",
    "    loss_pair = loss_pair.sum() / batch_size\n",
    "    \n",
    "    return loss_pair"
   ]
  },
  {
   "cell_type": "code",
   "execution_count": 9,
   "id": "3861002c-87be-489a-af73-8d54ff509fcb",
   "metadata": {},
   "outputs": [],
   "source": [
    "def loss_knn(embeddings, knn_embeddings, transformed_embeddings, transformed_knn_embeddings):\n",
    "    # embeddings.shape = (batch.size, embedding_size)\n",
    "    # knn_embeddings.shape = (batch,size, k, embedding_size)\n",
    "    # transformed_embeddings.shape = (batch_size, embedding_size)\n",
    "    # transformed_knn_embeddings.shape = (batch_size, k, embedding_size)\n",
    "    \n",
    "    # compute the similarities between original embeddings and their k-nearest-neighbours\n",
    "    embeddings_similarities = torch.sum(embeddings.unsqueeze(1) * knn_embeddings, dim=-1)  # shape = (batch_size, k)\n",
    "\n",
    "    loss_knn = 0.\n",
    "    for m in m_values:\n",
    "        # extract the first m dimensions\n",
    "        c_transformed_embeddings = transformed_embeddings[:, :m]\n",
    "        # normalize the truncated embeddings\n",
    "        c_transformed_embeddings = torch.nn.functional.normalize(c_transformed_embeddings, p=2, dim=1)\n",
    "\n",
    "        # do the same for the knn\n",
    "        c_transformed_knn_embeddings = transformed_knn_embeddings[:, :, :m]\n",
    "        c_transformed_knn_embeddings = torch.nn.functional.normalize(c_transformed_knn_embeddings, p=2, dim=2)\n",
    "\n",
    "        c_transformed_embeddings_similarities = torch.sum(c_transformed_embeddings.unsqueeze(1) * c_transformed_knn_embeddings, dim=-1)  # shape = (batch_size, k)\n",
    "\n",
    "        loss_knn += torch.abs(embeddings_similarities - c_transformed_embeddings_similarities)\n",
    "    loss_knn = loss_knn.sum() / (batch_size * k)\n",
    "    return loss_knn"
   ]
  },
  {
   "cell_type": "markdown",
   "id": "ddf749ad-0f9b-4075-9b92-0c922bd9a47b",
   "metadata": {},
   "source": [
    "### Training"
   ]
  },
  {
   "cell_type": "code",
   "execution_count": 10,
   "id": "7dedf9ee-a622-4bcc-839e-7c9c7923d594",
   "metadata": {},
   "outputs": [],
   "source": [
    "def training_loop(embeddings, knn_indices, matryoshka_adaptor,\n",
    "                  optimizer, batch_size, k, max_tr_iterations, patience):\n",
    "    \"\"\"\n",
    "    Training loop that iterates through all embeddings in batches for a given number of epochs\n",
    "    with early stopping and a maximum number of iterations.\n",
    "    \n",
    "    Args:\n",
    "    - embeddings: A tensor of shape (N, D), where N is the number of embeddings and D is the dimension.\n",
    "    - knn_indices: A tensor of shape (N, k), containing indices of the k-nearest neighbors for each embedding.\n",
    "    - matryoshka_adaptor: The matryoshka_adaptor to train (e.g., MatryoshkaAdaptor).\n",
    "    - optimizer: The optimizer for the modelmatryoshka_adaptor.\n",
    "    - batch_size: The number of embeddings to process in each batch.\n",
    "    - k: The number of nearest neighbors to retrieve.\n",
    "    - num_epochs: Maximum number of epochs to train.\n",
    "    - max_tr_iterations: Maximum number of training iterations (batches) to train.\n",
    "    - patience: Number of epochs with no improvement to wait for early stopping.\n",
    "    \"\"\"\n",
    "    \n",
    "    N, D = embeddings.shape  # N: number of embeddings, D: dimension of each embedding\n",
    "    \n",
    "    best_loss = float('inf')  # Initialize best loss as infinity\n",
    "    epochs_without_improvement = 0  # Counter for epochs without loss improvement\n",
    "    total_iterations = 0  # Counter for total iterations\n",
    "\n",
    "    epoch = 0\n",
    "    \n",
    "    # Iterate through epochs\n",
    "    while total_iterations < max_tr_iterations:\n",
    "        print(f\"Epoch {epoch + 1}\")\n",
    "        \n",
    "        # Shuffle the indices at the start of each epoch\n",
    "        indices = torch.randperm(N)\n",
    "        \n",
    "        epoch_loss = 0.0  # Track total loss for the epoch\n",
    "        \n",
    "        # Iterate through all embeddings in batches\n",
    "        for i in range(0, N, batch_size):\n",
    "            if total_iterations >= max_tr_iterations:\n",
    "                print(\"Reached maximum number of iterations. Stopping training.\")\n",
    "                break\n",
    "            \n",
    "            # Select a batch of embeddings\n",
    "            batch_indices = indices[i:i + batch_size]\n",
    "            batch_embeddings = embeddings[batch_indices]  # Embedding matrix A of size (batch_size, D)\n",
    "            \n",
    "            # Retrieve the k-nearest neighbors for the selected batch\n",
    "            batch_knn_indices = knn_indices[batch_indices]  # Get k-nearest neighbor indices for the selected batch\n",
    "            batch_knn_embeddings = embeddings[batch_knn_indices]  # Embedding matrix of size (batch_size, k, D)\n",
    "            \n",
    "            # Forward pass\n",
    "            optimizer.zero_grad()\n",
    "            # process the current batch_embeddings\n",
    "            matryoshka_embeddings = matryoshka_adaptor(batch_embeddings)  # Forward pass for the selected batch embeddings\n",
    "            # Compute the loss between the matryoshka_adaptor's output and the nearest neighbors (example MSE loss)\n",
    "            loss = 0.\n",
    "            loss += loss_rec(batch_embeddings, matryoshka_embeddings)\n",
    "            loss += loss_pair(batch_embeddings, matryoshka_embeddings)\n",
    "            \n",
    "            # process the batch_embedding's nearest neighbours (Note: This could be combined into 1 , instead of 2 forward passes, if necessary)\n",
    "            batch_knn_embeddings_flattened = batch_knn_embeddings.view(-1, embedding_dim)\n",
    "            batch_knn_embeddings_processed = matryoshka_adaptor(batch_knn_embeddings_flattened)\n",
    "            batch_knn_embeddings_processed = batch_knn_embeddings_processed.view(batch_indices.shape[0], k, embedding_dim)\n",
    "            loss += loss_knn(batch_embeddings, batch_knn_embeddings, matryoshka_embeddings, batch_knn_embeddings_processed)\n",
    "            \n",
    "            # Backpropagation and optimization step\n",
    "            loss.backward()\n",
    "            optimizer.step()\n",
    "            \n",
    "            epoch_loss += loss.item()  # Accumulate loss\n",
    "            total_iterations += 1  # Increment total iterations\n",
    "            \n",
    "        epoch_loss /= (N // batch_size)  # Average loss for the epoch\n",
    "        \n",
    "        print(f\"End of epoch {epoch + 1}: Loss = {epoch_loss}\")\n",
    "\n",
    "        # Check for early stopping\n",
    "        if epoch_loss < best_loss:\n",
    "            best_loss = epoch_loss\n",
    "            epochs_without_improvement = 0  # Reset patience counter\n",
    "        else:\n",
    "            epochs_without_improvement += 1  # Increment patience counter\n",
    "        \n",
    "        # Early stopping check\n",
    "        if epochs_without_improvement >= patience:\n",
    "            print(f\"No improvement for {patience} consecutive epochs. Stopping training.\")\n",
    "            break\n",
    "\n",
    "        epoch += 1"
   ]
  },
  {
   "cell_type": "code",
   "execution_count": 11,
   "id": "40062d19-c0f5-436c-a2c5-dba447e21c20",
   "metadata": {},
   "outputs": [
    {
     "data": {
      "application/vnd.jupyter.widget-view+json": {
       "model_id": "1b84f483d0964e848720ab40f411f2e0",
       "version_major": 2,
       "version_minor": 0
      },
      "text/plain": [
       "  0%|          | 0/5183 [00:00<?, ?it/s]"
      ]
     },
     "metadata": {},
     "output_type": "display_data"
    },
    {
     "name": "stdout",
     "output_type": "stream",
     "text": [
      "Num training data points : 5183\n"
     ]
    },
    {
     "data": {
      "application/vnd.jupyter.widget-view+json": {
       "model_id": "0560e187828446988768dccafd186bfe",
       "version_major": 2,
       "version_minor": 0
      },
      "text/plain": [
       "Batches:   0%|          | 0/11 [00:00<?, ?it/s]"
      ]
     },
     "metadata": {},
     "output_type": "display_data"
    },
    {
     "name": "stdout",
     "output_type": "stream",
     "text": [
      "corpus_embeddings.shape = torch.Size([5183, 384])\n"
     ]
    }
   ],
   "source": [
    "# Load + Preprocess training data\n",
    "corpus_embeddings = load_and_preprocess_data(tr_dataset_name, base_encoder)\n",
    "# normalize s.t. each embedding is of length 1 (note: they might already be, just making sure)\n",
    "corpus_embeddings = torch.nn.functional.normalize(corpus_embeddings, p=2, dim=1)\n",
    "print(f\"corpus_embeddings.shape = {corpus_embeddings.shape}\")"
   ]
  },
  {
   "cell_type": "code",
   "execution_count": 12,
   "id": "de395d12-51b9-4746-a777-2d6b1866eed6",
   "metadata": {},
   "outputs": [
    {
     "name": "stdout",
     "output_type": "stream",
     "text": [
      "corpus_embeddings_knn_indices.shape = (5183, 5)\n"
     ]
    }
   ],
   "source": [
    "# Compute KNN\n",
    "corpus_embeddings_knn_indices = compute_knn_cosine(corpus_embeddings, k=k)\n",
    "print(f\"corpus_embeddings_knn_indices.shape = {corpus_embeddings_knn_indices.shape}\")\n",
    "corpus_embeddings_knn_indices_torch = torch.from_numpy(corpus_embeddings_knn_indices)"
   ]
  },
  {
   "cell_type": "code",
   "execution_count": 13,
   "id": "ccc2d0fa-0a64-49e7-ab9d-0150ccf35f4a",
   "metadata": {},
   "outputs": [],
   "source": [
    "# Create the Matryoshka Adaptor\n",
    "matryoshka_adaptor = MatryoshkaAdaptor(embedding_dim, ma_hidden_dim).to(device)\n",
    "optimizer = optimizer_fn(matryoshka_adaptor.parameters())"
   ]
  },
  {
   "cell_type": "code",
   "execution_count": 14,
   "id": "6226a81a-87f9-4e7f-a062-a5be27f4b7bf",
   "metadata": {},
   "outputs": [
    {
     "name": "stdout",
     "output_type": "stream",
     "text": [
      "Epoch 1\n",
      "End of epoch 1: Loss = 12.499300420284271\n",
      "Epoch 2\n",
      "End of epoch 2: Loss = 9.980272543430328\n",
      "Epoch 3\n",
      "End of epoch 3: Loss = 8.894279599189758\n",
      "Epoch 4\n",
      "End of epoch 4: Loss = 8.15582379102707\n",
      "Epoch 5\n",
      "End of epoch 5: Loss = 7.560039818286896\n",
      "Epoch 6\n",
      "End of epoch 6: Loss = 7.186726158857345\n",
      "Epoch 7\n",
      "End of epoch 7: Loss = 6.87474964261055\n",
      "Epoch 8\n",
      "End of epoch 8: Loss = 6.585655003786087\n",
      "Epoch 9\n",
      "End of epoch 9: Loss = 6.414237821102143\n",
      "Epoch 10\n",
      "End of epoch 10: Loss = 6.212537789344788\n",
      "Epoch 11\n",
      "End of epoch 11: Loss = 6.067701625823974\n",
      "Epoch 12\n",
      "End of epoch 12: Loss = 5.954874503612518\n",
      "Epoch 13\n",
      "End of epoch 13: Loss = 5.890150225162506\n",
      "Epoch 14\n",
      "End of epoch 14: Loss = 5.772283238172531\n",
      "Epoch 15\n",
      "End of epoch 15: Loss = 5.690545719861984\n",
      "Epoch 16\n",
      "End of epoch 16: Loss = 5.596325606107712\n",
      "Epoch 17\n",
      "End of epoch 17: Loss = 5.608816564083099\n",
      "Epoch 18\n",
      "End of epoch 18: Loss = 5.549145096540451\n",
      "Epoch 19\n",
      "End of epoch 19: Loss = 5.4495001316070555\n",
      "Epoch 20\n",
      "End of epoch 20: Loss = 5.371973508596421\n",
      "Epoch 21\n",
      "End of epoch 21: Loss = 5.300699049234391\n",
      "Epoch 22\n",
      "End of epoch 22: Loss = 5.277963590621948\n",
      "Epoch 23\n",
      "End of epoch 23: Loss = 5.2913738012313845\n",
      "Epoch 24\n",
      "End of epoch 24: Loss = 5.154375332593918\n",
      "Epoch 25\n",
      "End of epoch 25: Loss = 5.125246971845627\n",
      "Epoch 26\n",
      "End of epoch 26: Loss = 5.111731398105621\n",
      "Epoch 27\n",
      "End of epoch 27: Loss = 5.098874711990357\n",
      "Epoch 28\n",
      "End of epoch 28: Loss = 5.107081747055053\n",
      "Epoch 29\n",
      "End of epoch 29: Loss = 5.020357990264893\n",
      "Epoch 30\n",
      "End of epoch 30: Loss = 4.950176918506623\n",
      "Epoch 31\n",
      "End of epoch 31: Loss = 4.944548845291138\n",
      "Epoch 32\n",
      "End of epoch 32: Loss = 4.895804876089096\n",
      "Epoch 33\n",
      "End of epoch 33: Loss = 4.8744302749633786\n",
      "Epoch 34\n",
      "End of epoch 34: Loss = 4.9390452086925505\n",
      "Epoch 35\n",
      "End of epoch 35: Loss = 4.9068552374839784\n",
      "Epoch 36\n",
      "End of epoch 36: Loss = 4.841941297054291\n",
      "Epoch 37\n",
      "End of epoch 37: Loss = 4.793706625699997\n",
      "Epoch 38\n",
      "End of epoch 38: Loss = 4.762265074253082\n",
      "Epoch 39\n",
      "End of epoch 39: Loss = 4.867242938280105\n",
      "Epoch 40\n",
      "End of epoch 40: Loss = 4.821679896116256\n",
      "Epoch 41\n",
      "End of epoch 41: Loss = 4.816897118091584\n",
      "Epoch 42\n",
      "End of epoch 42: Loss = 4.795541113615036\n",
      "Epoch 43\n",
      "End of epoch 43: Loss = 4.675120723247528\n",
      "Epoch 44\n",
      "End of epoch 44: Loss = 4.730455678701401\n",
      "Epoch 45\n",
      "End of epoch 45: Loss = 4.677686315774918\n",
      "Epoch 46\n",
      "End of epoch 46: Loss = 4.690594190359116\n",
      "Epoch 47\n",
      "End of epoch 47: Loss = 4.678680723905563\n",
      "Epoch 48\n",
      "End of epoch 48: Loss = 4.623196363449097\n",
      "Epoch 49\n",
      "End of epoch 49: Loss = 4.648403018712997\n",
      "Epoch 50\n",
      "End of epoch 50: Loss = 4.629339945316315\n",
      "Epoch 51\n",
      "End of epoch 51: Loss = 4.560474741458893\n",
      "Epoch 52\n",
      "End of epoch 52: Loss = 4.595164197683334\n",
      "Epoch 53\n",
      "End of epoch 53: Loss = 4.613375329971314\n",
      "Epoch 54\n",
      "End of epoch 54: Loss = 4.55210890173912\n",
      "Epoch 55\n",
      "End of epoch 55: Loss = 4.646565413475036\n",
      "Epoch 56\n",
      "End of epoch 56: Loss = 4.593309080600738\n",
      "Epoch 57\n",
      "End of epoch 57: Loss = 4.52273091673851\n",
      "Epoch 58\n",
      "End of epoch 58: Loss = 4.494161468744278\n",
      "Epoch 59\n",
      "End of epoch 59: Loss = 4.498234289884567\n",
      "Epoch 60\n",
      "End of epoch 60: Loss = 4.482275956869126\n",
      "Epoch 61\n",
      "End of epoch 61: Loss = 4.4792121052742\n",
      "Epoch 62\n",
      "End of epoch 62: Loss = 4.484399771690368\n",
      "Epoch 63\n",
      "End of epoch 63: Loss = 4.445611971616745\n",
      "Epoch 64\n",
      "End of epoch 64: Loss = 4.4763948798179625\n",
      "Epoch 65\n",
      "End of epoch 65: Loss = 4.488869160413742\n",
      "Epoch 66\n",
      "End of epoch 66: Loss = 4.489113521575928\n",
      "Epoch 67\n",
      "End of epoch 67: Loss = 4.462927752733231\n",
      "Epoch 68\n",
      "End of epoch 68: Loss = 4.42499720454216\n",
      "Epoch 69\n",
      "End of epoch 69: Loss = 4.418692022562027\n",
      "Epoch 70\n",
      "End of epoch 70: Loss = 4.407481110095977\n",
      "Epoch 71\n",
      "End of epoch 71: Loss = 4.43555538058281\n",
      "Epoch 72\n",
      "End of epoch 72: Loss = 4.504157918691635\n",
      "Epoch 73\n",
      "End of epoch 73: Loss = 4.414633828401565\n",
      "Epoch 74\n",
      "End of epoch 74: Loss = 4.3922782123088835\n",
      "Epoch 75\n",
      "End of epoch 75: Loss = 4.410946702957153\n",
      "Epoch 76\n",
      "End of epoch 76: Loss = 4.396832883358002\n",
      "Epoch 77\n",
      "End of epoch 77: Loss = 4.411562490463257\n",
      "Epoch 78\n",
      "End of epoch 78: Loss = 4.424803006649017\n",
      "Epoch 79\n",
      "End of epoch 79: Loss = 4.375490325689316\n",
      "Epoch 80\n",
      "End of epoch 80: Loss = 4.366776293516159\n",
      "Epoch 81\n",
      "End of epoch 81: Loss = 4.355648392438889\n",
      "Epoch 82\n",
      "End of epoch 82: Loss = 4.40535061955452\n",
      "Epoch 83\n",
      "End of epoch 83: Loss = 4.3692387342453\n",
      "Epoch 84\n",
      "End of epoch 84: Loss = 4.365372061729431\n",
      "Epoch 85\n",
      "End of epoch 85: Loss = 4.374684375524521\n",
      "Epoch 86\n",
      "End of epoch 86: Loss = 4.335712665319443\n",
      "Epoch 87\n",
      "End of epoch 87: Loss = 4.361003577709198\n",
      "Epoch 88\n",
      "End of epoch 88: Loss = 4.449854069948197\n",
      "Epoch 89\n",
      "End of epoch 89: Loss = 4.502158260345459\n",
      "Epoch 90\n",
      "End of epoch 90: Loss = 4.421190339326858\n",
      "Epoch 91\n",
      "End of epoch 91: Loss = 4.331158840656281\n",
      "Epoch 92\n",
      "End of epoch 92: Loss = 4.32552677989006\n",
      "Epoch 93\n",
      "End of epoch 93: Loss = 4.301893806457519\n",
      "Epoch 94\n",
      "End of epoch 94: Loss = 4.326409250497818\n",
      "Epoch 95\n",
      "End of epoch 95: Loss = 4.313514822721482\n",
      "Epoch 96\n",
      "End of epoch 96: Loss = 4.279834651947022\n",
      "Epoch 97\n",
      "End of epoch 97: Loss = 4.291279202699661\n",
      "Epoch 98\n",
      "End of epoch 98: Loss = 4.305770349502564\n",
      "Epoch 99\n",
      "End of epoch 99: Loss = 4.258088451623917\n",
      "Epoch 100\n",
      "End of epoch 100: Loss = 4.27145431637764\n",
      "Epoch 101\n",
      "End of epoch 101: Loss = 4.2766710221767426\n",
      "Epoch 102\n",
      "End of epoch 102: Loss = 4.32525264620781\n",
      "Epoch 103\n",
      "End of epoch 103: Loss = 4.35668908059597\n",
      "Epoch 104\n",
      "End of epoch 104: Loss = 4.298047149181366\n",
      "Epoch 105\n",
      "End of epoch 105: Loss = 4.277913874387741\n",
      "Epoch 106\n",
      "End of epoch 106: Loss = 4.281073659658432\n",
      "Epoch 107\n",
      "End of epoch 107: Loss = 4.280582284927368\n",
      "Epoch 108\n",
      "End of epoch 108: Loss = 4.3934783935546875\n",
      "Epoch 109\n",
      "End of epoch 109: Loss = 4.305420589447022\n",
      "Epoch 110\n",
      "End of epoch 110: Loss = 4.25237005352974\n",
      "Epoch 111\n",
      "End of epoch 111: Loss = 4.216768872737885\n",
      "Epoch 112\n",
      "End of epoch 112: Loss = 4.275252890586853\n",
      "Epoch 113\n",
      "End of epoch 113: Loss = 4.298073571920395\n",
      "Epoch 114\n",
      "End of epoch 114: Loss = 4.267724794149399\n",
      "Epoch 115\n",
      "End of epoch 115: Loss = 4.221801280975342\n",
      "Epoch 116\n",
      "End of epoch 116: Loss = 4.245895874500275\n",
      "Epoch 117\n",
      "End of epoch 117: Loss = 4.245907860994339\n",
      "Epoch 118\n",
      "End of epoch 118: Loss = 4.2309318542480465\n",
      "Epoch 119\n",
      "End of epoch 119: Loss = 4.259816217422485\n",
      "Epoch 120\n",
      "End of epoch 120: Loss = 4.252903163433075\n",
      "Epoch 121\n",
      "End of epoch 121: Loss = 4.2140973508358\n",
      "Epoch 122\n",
      "Reached maximum number of iterations. Stopping training.\n",
      "End of epoch 122: Loss = 4.037395900487899\n"
     ]
    }
   ],
   "source": [
    "# Train the Adaptor\n",
    "training_loop(corpus_embeddings, corpus_embeddings_knn_indices_torch, matryoshka_adaptor,\n",
    "                  optimizer, batch_size, k, max_tr_iterations, patience)"
   ]
  },
  {
   "cell_type": "markdown",
   "id": "b801fd6f-7d75-45d6-b3eb-7eb5e8048081",
   "metadata": {},
   "source": [
    "### Save / Load the model"
   ]
  },
  {
   "cell_type": "code",
   "execution_count": 15,
   "id": "d3791514-3317-4669-986e-32006af2f925",
   "metadata": {},
   "outputs": [],
   "source": [
    "# file_path = 'matryoshka_adaptor_scifact.pth'\n",
    "# torch.save(matryoshka_adaptor.state_dict(), file_path)\n",
    "# matryoshka_adaptor = MatryoshkaAdaptor(embedding_dim, ma_hidden_dim).to(device)\n",
    "# matryoshka_adaptor.load_state_dict(torch.load(file_path))"
   ]
  },
  {
   "cell_type": "code",
   "execution_count": null,
   "id": "1d6f5d1e-f0ca-4726-89d8-f4490510902e",
   "metadata": {},
   "outputs": [],
   "source": []
  },
  {
   "cell_type": "markdown",
   "id": "74b26725-e3f8-4e78-8420-086959328abc",
   "metadata": {},
   "source": [
    "# Evaluations"
   ]
  },
  {
   "cell_type": "code",
   "execution_count": 16,
   "id": "42a4f17a-b7e4-499b-8ffe-0e949dc4d05f",
   "metadata": {},
   "outputs": [],
   "source": [
    "# Custom SentenceTransformer child class with an adaptor\n",
    "class SentenceTransformerwMatryoskaAdaptor(SentenceTransformer):\n",
    "    def __init__(self, base_model_name: str, adaptor: torch.nn.Module):\n",
    "        \"\"\"\n",
    "        Initialize the custom SentenceTransformer with a base model and an adaptor.\n",
    "        \n",
    "        Args:\n",
    "        - base_model_name: Name of the pre-trained base model (e.g., 'paraphrase-MiniLM-L6-v2').\n",
    "        - adaptor: A neural network module that processes the embeddings from the base model.\n",
    "        \"\"\"\n",
    "        super().__init__(base_model_name)  # Initialize the base SentenceTransformer\n",
    "        self.adaptor = adaptor  # Set the adaptor"
   ]
  },
  {
   "cell_type": "code",
   "execution_count": 17,
   "id": "a4cf4b47-7d89-40ed-82e4-6e9050d97acd",
   "metadata": {},
   "outputs": [],
   "source": [
    "# Initialize the benchmark\n",
    "MTEB_task_name_map = {\n",
    "    \"scifact\": \"SciFact\",\n",
    "    \"msmarco\": \"MSMARCO\"\n",
    "}\n",
    "tasks = mteb.get_tasks(tasks=[MTEB_task_name_map[eval_dataset_name]])\n",
    "benchmark = MTEB(tasks=tasks)"
   ]
  },
  {
   "cell_type": "markdown",
   "id": "f9a1db10-e0fe-488c-9a7f-d58db32036f4",
   "metadata": {},
   "source": [
    "# Evaluate Baseline"
   ]
  },
  {
   "cell_type": "code",
   "execution_count": 18,
   "id": "0c00c47b-f73f-47d2-acee-c5d4dbb37677",
   "metadata": {
    "scrolled": true
   },
   "outputs": [
    {
     "data": {
      "text/html": [
       "<pre style=\"white-space:pre;overflow-x:auto;line-height:normal;font-family:Menlo,'DejaVu Sans Mono',consolas,'Courier New',monospace\"><span style=\"color: #262626; text-decoration-color: #262626\">───────────────────────────────────────────────── </span><span style=\"font-weight: bold\">Selected tasks </span><span style=\"color: #262626; text-decoration-color: #262626\"> ─────────────────────────────────────────────────</span>\n",
       "</pre>\n"
      ],
      "text/plain": [
       "\u001b[38;5;235m───────────────────────────────────────────────── \u001b[0m\u001b[1mSelected tasks \u001b[0m\u001b[38;5;235m ─────────────────────────────────────────────────\u001b[0m\n"
      ]
     },
     "metadata": {},
     "output_type": "display_data"
    },
    {
     "data": {
      "text/html": [
       "<pre style=\"white-space:pre;overflow-x:auto;line-height:normal;font-family:Menlo,'DejaVu Sans Mono',consolas,'Courier New',monospace\"><span style=\"font-weight: bold\">Retrieval</span>\n",
       "</pre>\n"
      ],
      "text/plain": [
       "\u001b[1mRetrieval\u001b[0m\n"
      ]
     },
     "metadata": {},
     "output_type": "display_data"
    },
    {
     "data": {
      "text/html": [
       "<pre style=\"white-space:pre;overflow-x:auto;line-height:normal;font-family:Menlo,'DejaVu Sans Mono',consolas,'Courier New',monospace\">    - SciFact, <span style=\"color: #626262; text-decoration-color: #626262; font-style: italic\">s2p</span>\n",
       "</pre>\n"
      ],
      "text/plain": [
       "    - SciFact, \u001b[3;38;5;241ms2p\u001b[0m\n"
      ]
     },
     "metadata": {},
     "output_type": "display_data"
    },
    {
     "data": {
      "text/html": [
       "<pre style=\"white-space:pre;overflow-x:auto;line-height:normal;font-family:Menlo,'DejaVu Sans Mono',consolas,'Courier New',monospace\">\n",
       "\n",
       "</pre>\n"
      ],
      "text/plain": [
       "\n",
       "\n"
      ]
     },
     "metadata": {},
     "output_type": "display_data"
    },
    {
     "data": {
      "application/vnd.jupyter.widget-view+json": {
       "model_id": "9693de9fc4304e06994b06970541d128",
       "version_major": 2,
       "version_minor": 0
      },
      "text/plain": [
       "Batches:   0%|          | 0/7 [00:00<?, ?it/s]"
      ]
     },
     "metadata": {},
     "output_type": "display_data"
    },
    {
     "data": {
      "application/vnd.jupyter.widget-view+json": {
       "model_id": "ea87870f490848f3a880088d35ea1d72",
       "version_major": 2,
       "version_minor": 0
      },
      "text/plain": [
       "Batches:   0%|          | 0/41 [00:00<?, ?it/s]"
      ]
     },
     "metadata": {},
     "output_type": "display_data"
    },
    {
     "data": {
      "application/vnd.jupyter.widget-view+json": {
       "model_id": "23e6ab5003614b9a9ce6a19f4bb455bc",
       "version_major": 2,
       "version_minor": 0
      },
      "text/plain": [
       "Batches:   0%|          | 0/3 [00:00<?, ?it/s]"
      ]
     },
     "metadata": {},
     "output_type": "display_data"
    },
    {
     "data": {
      "application/vnd.jupyter.widget-view+json": {
       "model_id": "ee252dde8d3d49198c0734a43243150b",
       "version_major": 2,
       "version_minor": 0
      },
      "text/plain": [
       "Batches:   0%|          | 0/41 [00:00<?, ?it/s]"
      ]
     },
     "metadata": {},
     "output_type": "display_data"
    },
    {
     "data": {
      "text/html": [
       "<pre style=\"white-space:pre;overflow-x:auto;line-height:normal;font-family:Menlo,'DejaVu Sans Mono',consolas,'Courier New',monospace\"><span style=\"color: #262626; text-decoration-color: #262626\">───────────────────────────────────────────────── </span><span style=\"font-weight: bold\">Selected tasks </span><span style=\"color: #262626; text-decoration-color: #262626\"> ─────────────────────────────────────────────────</span>\n",
       "</pre>\n"
      ],
      "text/plain": [
       "\u001b[38;5;235m───────────────────────────────────────────────── \u001b[0m\u001b[1mSelected tasks \u001b[0m\u001b[38;5;235m ─────────────────────────────────────────────────\u001b[0m\n"
      ]
     },
     "metadata": {},
     "output_type": "display_data"
    },
    {
     "data": {
      "text/html": [
       "<pre style=\"white-space:pre;overflow-x:auto;line-height:normal;font-family:Menlo,'DejaVu Sans Mono',consolas,'Courier New',monospace\"><span style=\"font-weight: bold\">Retrieval</span>\n",
       "</pre>\n"
      ],
      "text/plain": [
       "\u001b[1mRetrieval\u001b[0m\n"
      ]
     },
     "metadata": {},
     "output_type": "display_data"
    },
    {
     "data": {
      "text/html": [
       "<pre style=\"white-space:pre;overflow-x:auto;line-height:normal;font-family:Menlo,'DejaVu Sans Mono',consolas,'Courier New',monospace\">    - SciFact, <span style=\"color: #626262; text-decoration-color: #626262; font-style: italic\">s2p</span>\n",
       "</pre>\n"
      ],
      "text/plain": [
       "    - SciFact, \u001b[3;38;5;241ms2p\u001b[0m\n"
      ]
     },
     "metadata": {},
     "output_type": "display_data"
    },
    {
     "data": {
      "text/html": [
       "<pre style=\"white-space:pre;overflow-x:auto;line-height:normal;font-family:Menlo,'DejaVu Sans Mono',consolas,'Courier New',monospace\">\n",
       "\n",
       "</pre>\n"
      ],
      "text/plain": [
       "\n",
       "\n"
      ]
     },
     "metadata": {},
     "output_type": "display_data"
    },
    {
     "data": {
      "application/vnd.jupyter.widget-view+json": {
       "model_id": "099f31ca979e422badf8672b089cea05",
       "version_major": 2,
       "version_minor": 0
      },
      "text/plain": [
       "Batches:   0%|          | 0/7 [00:00<?, ?it/s]"
      ]
     },
     "metadata": {},
     "output_type": "display_data"
    },
    {
     "data": {
      "application/vnd.jupyter.widget-view+json": {
       "model_id": "dfe91744d7854b9a82fc6fd9c52a8421",
       "version_major": 2,
       "version_minor": 0
      },
      "text/plain": [
       "Batches:   0%|          | 0/41 [00:00<?, ?it/s]"
      ]
     },
     "metadata": {},
     "output_type": "display_data"
    },
    {
     "data": {
      "application/vnd.jupyter.widget-view+json": {
       "model_id": "f7af1aa357b24593b1e789d2266023cd",
       "version_major": 2,
       "version_minor": 0
      },
      "text/plain": [
       "Batches:   0%|          | 0/3 [00:00<?, ?it/s]"
      ]
     },
     "metadata": {},
     "output_type": "display_data"
    },
    {
     "data": {
      "application/vnd.jupyter.widget-view+json": {
       "model_id": "af0cebb1e4be43d7ab187bf7e4a96f37",
       "version_major": 2,
       "version_minor": 0
      },
      "text/plain": [
       "Batches:   0%|          | 0/41 [00:00<?, ?it/s]"
      ]
     },
     "metadata": {},
     "output_type": "display_data"
    },
    {
     "data": {
      "text/html": [
       "<pre style=\"white-space:pre;overflow-x:auto;line-height:normal;font-family:Menlo,'DejaVu Sans Mono',consolas,'Courier New',monospace\"><span style=\"color: #262626; text-decoration-color: #262626\">───────────────────────────────────────────────── </span><span style=\"font-weight: bold\">Selected tasks </span><span style=\"color: #262626; text-decoration-color: #262626\"> ─────────────────────────────────────────────────</span>\n",
       "</pre>\n"
      ],
      "text/plain": [
       "\u001b[38;5;235m───────────────────────────────────────────────── \u001b[0m\u001b[1mSelected tasks \u001b[0m\u001b[38;5;235m ─────────────────────────────────────────────────\u001b[0m\n"
      ]
     },
     "metadata": {},
     "output_type": "display_data"
    },
    {
     "data": {
      "text/html": [
       "<pre style=\"white-space:pre;overflow-x:auto;line-height:normal;font-family:Menlo,'DejaVu Sans Mono',consolas,'Courier New',monospace\"><span style=\"font-weight: bold\">Retrieval</span>\n",
       "</pre>\n"
      ],
      "text/plain": [
       "\u001b[1mRetrieval\u001b[0m\n"
      ]
     },
     "metadata": {},
     "output_type": "display_data"
    },
    {
     "data": {
      "text/html": [
       "<pre style=\"white-space:pre;overflow-x:auto;line-height:normal;font-family:Menlo,'DejaVu Sans Mono',consolas,'Courier New',monospace\">    - SciFact, <span style=\"color: #626262; text-decoration-color: #626262; font-style: italic\">s2p</span>\n",
       "</pre>\n"
      ],
      "text/plain": [
       "    - SciFact, \u001b[3;38;5;241ms2p\u001b[0m\n"
      ]
     },
     "metadata": {},
     "output_type": "display_data"
    },
    {
     "data": {
      "text/html": [
       "<pre style=\"white-space:pre;overflow-x:auto;line-height:normal;font-family:Menlo,'DejaVu Sans Mono',consolas,'Courier New',monospace\">\n",
       "\n",
       "</pre>\n"
      ],
      "text/plain": [
       "\n",
       "\n"
      ]
     },
     "metadata": {},
     "output_type": "display_data"
    },
    {
     "data": {
      "application/vnd.jupyter.widget-view+json": {
       "model_id": "9ceeefbe40e449e3a974097d8fbe394d",
       "version_major": 2,
       "version_minor": 0
      },
      "text/plain": [
       "Batches:   0%|          | 0/7 [00:00<?, ?it/s]"
      ]
     },
     "metadata": {},
     "output_type": "display_data"
    },
    {
     "data": {
      "application/vnd.jupyter.widget-view+json": {
       "model_id": "f56566d58c6146e49273501b5cfdb350",
       "version_major": 2,
       "version_minor": 0
      },
      "text/plain": [
       "Batches:   0%|          | 0/41 [00:00<?, ?it/s]"
      ]
     },
     "metadata": {},
     "output_type": "display_data"
    },
    {
     "data": {
      "application/vnd.jupyter.widget-view+json": {
       "model_id": "0733e53a41cd43e6830f53374d1771b3",
       "version_major": 2,
       "version_minor": 0
      },
      "text/plain": [
       "Batches:   0%|          | 0/3 [00:00<?, ?it/s]"
      ]
     },
     "metadata": {},
     "output_type": "display_data"
    },
    {
     "data": {
      "application/vnd.jupyter.widget-view+json": {
       "model_id": "18b316b18fc8437ab73bdccb00b32180",
       "version_major": 2,
       "version_minor": 0
      },
      "text/plain": [
       "Batches:   0%|          | 0/41 [00:00<?, ?it/s]"
      ]
     },
     "metadata": {},
     "output_type": "display_data"
    },
    {
     "data": {
      "text/html": [
       "<pre style=\"white-space:pre;overflow-x:auto;line-height:normal;font-family:Menlo,'DejaVu Sans Mono',consolas,'Courier New',monospace\"><span style=\"color: #262626; text-decoration-color: #262626\">───────────────────────────────────────────────── </span><span style=\"font-weight: bold\">Selected tasks </span><span style=\"color: #262626; text-decoration-color: #262626\"> ─────────────────────────────────────────────────</span>\n",
       "</pre>\n"
      ],
      "text/plain": [
       "\u001b[38;5;235m───────────────────────────────────────────────── \u001b[0m\u001b[1mSelected tasks \u001b[0m\u001b[38;5;235m ─────────────────────────────────────────────────\u001b[0m\n"
      ]
     },
     "metadata": {},
     "output_type": "display_data"
    },
    {
     "data": {
      "text/html": [
       "<pre style=\"white-space:pre;overflow-x:auto;line-height:normal;font-family:Menlo,'DejaVu Sans Mono',consolas,'Courier New',monospace\"><span style=\"font-weight: bold\">Retrieval</span>\n",
       "</pre>\n"
      ],
      "text/plain": [
       "\u001b[1mRetrieval\u001b[0m\n"
      ]
     },
     "metadata": {},
     "output_type": "display_data"
    },
    {
     "data": {
      "text/html": [
       "<pre style=\"white-space:pre;overflow-x:auto;line-height:normal;font-family:Menlo,'DejaVu Sans Mono',consolas,'Courier New',monospace\">    - SciFact, <span style=\"color: #626262; text-decoration-color: #626262; font-style: italic\">s2p</span>\n",
       "</pre>\n"
      ],
      "text/plain": [
       "    - SciFact, \u001b[3;38;5;241ms2p\u001b[0m\n"
      ]
     },
     "metadata": {},
     "output_type": "display_data"
    },
    {
     "data": {
      "text/html": [
       "<pre style=\"white-space:pre;overflow-x:auto;line-height:normal;font-family:Menlo,'DejaVu Sans Mono',consolas,'Courier New',monospace\">\n",
       "\n",
       "</pre>\n"
      ],
      "text/plain": [
       "\n",
       "\n"
      ]
     },
     "metadata": {},
     "output_type": "display_data"
    },
    {
     "data": {
      "application/vnd.jupyter.widget-view+json": {
       "model_id": "334d6d5a1e2245218c1424c7ba27fc26",
       "version_major": 2,
       "version_minor": 0
      },
      "text/plain": [
       "Batches:   0%|          | 0/7 [00:00<?, ?it/s]"
      ]
     },
     "metadata": {},
     "output_type": "display_data"
    },
    {
     "data": {
      "application/vnd.jupyter.widget-view+json": {
       "model_id": "f2040ba72f92447599716e151bcc69ed",
       "version_major": 2,
       "version_minor": 0
      },
      "text/plain": [
       "Batches:   0%|          | 0/41 [00:00<?, ?it/s]"
      ]
     },
     "metadata": {},
     "output_type": "display_data"
    },
    {
     "data": {
      "application/vnd.jupyter.widget-view+json": {
       "model_id": "6c562cb9847e45ce8773695108c43e65",
       "version_major": 2,
       "version_minor": 0
      },
      "text/plain": [
       "Batches:   0%|          | 0/3 [00:00<?, ?it/s]"
      ]
     },
     "metadata": {},
     "output_type": "display_data"
    },
    {
     "data": {
      "application/vnd.jupyter.widget-view+json": {
       "model_id": "d72367a7c537403b8ecb40f7c49916e6",
       "version_major": 2,
       "version_minor": 0
      },
      "text/plain": [
       "Batches:   0%|          | 0/41 [00:00<?, ?it/s]"
      ]
     },
     "metadata": {},
     "output_type": "display_data"
    }
   ],
   "source": [
    "# Get the baseline's performance at \n",
    "# m_values\n",
    "baseline_results_diff_m_values = []\n",
    "model = SentenceTransformer(base_encoder)\n",
    "\n",
    "for m_value in m_values:\n",
    "    model.truncate_dim = m_value\n",
    "    # Run the evaluation\n",
    "    baseline_results_diff_m_values.append(benchmark.run(model, output_folder=None))\n",
    "del model"
   ]
  },
  {
   "cell_type": "code",
   "execution_count": 19,
   "id": "f77e9670-a98f-48fc-9be5-64b62dc48f85",
   "metadata": {},
   "outputs": [],
   "source": [
    "baseline_y_values = [\n",
    "    bres[0].scores[\"test\"][0][\"ndcg_at_10\"]\n",
    "    for bres in baseline_results_diff_m_values\n",
    "]"
   ]
  },
  {
   "cell_type": "markdown",
   "id": "a391a160-0850-418c-9b46-86944de367df",
   "metadata": {},
   "source": [
    "# Evaluate the Matryoshka Adaptor"
   ]
  },
  {
   "cell_type": "code",
   "execution_count": 20,
   "id": "93654757-9a98-4afb-8a66-94adbb5d49e6",
   "metadata": {},
   "outputs": [
    {
     "data": {
      "text/html": [
       "<pre style=\"white-space:pre;overflow-x:auto;line-height:normal;font-family:Menlo,'DejaVu Sans Mono',consolas,'Courier New',monospace\"><span style=\"color: #262626; text-decoration-color: #262626\">───────────────────────────────────────────────── </span><span style=\"font-weight: bold\">Selected tasks </span><span style=\"color: #262626; text-decoration-color: #262626\"> ─────────────────────────────────────────────────</span>\n",
       "</pre>\n"
      ],
      "text/plain": [
       "\u001b[38;5;235m───────────────────────────────────────────────── \u001b[0m\u001b[1mSelected tasks \u001b[0m\u001b[38;5;235m ─────────────────────────────────────────────────\u001b[0m\n"
      ]
     },
     "metadata": {},
     "output_type": "display_data"
    },
    {
     "data": {
      "text/html": [
       "<pre style=\"white-space:pre;overflow-x:auto;line-height:normal;font-family:Menlo,'DejaVu Sans Mono',consolas,'Courier New',monospace\"><span style=\"font-weight: bold\">Retrieval</span>\n",
       "</pre>\n"
      ],
      "text/plain": [
       "\u001b[1mRetrieval\u001b[0m\n"
      ]
     },
     "metadata": {},
     "output_type": "display_data"
    },
    {
     "data": {
      "text/html": [
       "<pre style=\"white-space:pre;overflow-x:auto;line-height:normal;font-family:Menlo,'DejaVu Sans Mono',consolas,'Courier New',monospace\">    - SciFact, <span style=\"color: #626262; text-decoration-color: #626262; font-style: italic\">s2p</span>\n",
       "</pre>\n"
      ],
      "text/plain": [
       "    - SciFact, \u001b[3;38;5;241ms2p\u001b[0m\n"
      ]
     },
     "metadata": {},
     "output_type": "display_data"
    },
    {
     "data": {
      "text/html": [
       "<pre style=\"white-space:pre;overflow-x:auto;line-height:normal;font-family:Menlo,'DejaVu Sans Mono',consolas,'Courier New',monospace\">\n",
       "\n",
       "</pre>\n"
      ],
      "text/plain": [
       "\n",
       "\n"
      ]
     },
     "metadata": {},
     "output_type": "display_data"
    },
    {
     "data": {
      "application/vnd.jupyter.widget-view+json": {
       "model_id": "6f1e40dc8cc94d3a8d1fc2b714802df6",
       "version_major": 2,
       "version_minor": 0
      },
      "text/plain": [
       "Batches:   0%|          | 0/7 [00:00<?, ?it/s]"
      ]
     },
     "metadata": {},
     "output_type": "display_data"
    },
    {
     "data": {
      "application/vnd.jupyter.widget-view+json": {
       "model_id": "e5ec8dc4b6c34da2975ba819c3ac05e7",
       "version_major": 2,
       "version_minor": 0
      },
      "text/plain": [
       "Batches:   0%|          | 0/41 [00:00<?, ?it/s]"
      ]
     },
     "metadata": {},
     "output_type": "display_data"
    },
    {
     "data": {
      "application/vnd.jupyter.widget-view+json": {
       "model_id": "83b7e9bcc46a4f8980189f1167ec4988",
       "version_major": 2,
       "version_minor": 0
      },
      "text/plain": [
       "Batches:   0%|          | 0/3 [00:00<?, ?it/s]"
      ]
     },
     "metadata": {},
     "output_type": "display_data"
    },
    {
     "data": {
      "application/vnd.jupyter.widget-view+json": {
       "model_id": "b9263a201c58489f86d77d3b3a7455a3",
       "version_major": 2,
       "version_minor": 0
      },
      "text/plain": [
       "Batches:   0%|          | 0/41 [00:00<?, ?it/s]"
      ]
     },
     "metadata": {},
     "output_type": "display_data"
    },
    {
     "data": {
      "text/html": [
       "<pre style=\"white-space:pre;overflow-x:auto;line-height:normal;font-family:Menlo,'DejaVu Sans Mono',consolas,'Courier New',monospace\"><span style=\"color: #262626; text-decoration-color: #262626\">───────────────────────────────────────────────── </span><span style=\"font-weight: bold\">Selected tasks </span><span style=\"color: #262626; text-decoration-color: #262626\"> ─────────────────────────────────────────────────</span>\n",
       "</pre>\n"
      ],
      "text/plain": [
       "\u001b[38;5;235m───────────────────────────────────────────────── \u001b[0m\u001b[1mSelected tasks \u001b[0m\u001b[38;5;235m ─────────────────────────────────────────────────\u001b[0m\n"
      ]
     },
     "metadata": {},
     "output_type": "display_data"
    },
    {
     "data": {
      "text/html": [
       "<pre style=\"white-space:pre;overflow-x:auto;line-height:normal;font-family:Menlo,'DejaVu Sans Mono',consolas,'Courier New',monospace\"><span style=\"font-weight: bold\">Retrieval</span>\n",
       "</pre>\n"
      ],
      "text/plain": [
       "\u001b[1mRetrieval\u001b[0m\n"
      ]
     },
     "metadata": {},
     "output_type": "display_data"
    },
    {
     "data": {
      "text/html": [
       "<pre style=\"white-space:pre;overflow-x:auto;line-height:normal;font-family:Menlo,'DejaVu Sans Mono',consolas,'Courier New',monospace\">    - SciFact, <span style=\"color: #626262; text-decoration-color: #626262; font-style: italic\">s2p</span>\n",
       "</pre>\n"
      ],
      "text/plain": [
       "    - SciFact, \u001b[3;38;5;241ms2p\u001b[0m\n"
      ]
     },
     "metadata": {},
     "output_type": "display_data"
    },
    {
     "data": {
      "text/html": [
       "<pre style=\"white-space:pre;overflow-x:auto;line-height:normal;font-family:Menlo,'DejaVu Sans Mono',consolas,'Courier New',monospace\">\n",
       "\n",
       "</pre>\n"
      ],
      "text/plain": [
       "\n",
       "\n"
      ]
     },
     "metadata": {},
     "output_type": "display_data"
    },
    {
     "data": {
      "application/vnd.jupyter.widget-view+json": {
       "model_id": "5527f0976e0c46f8937e7e61d60d1f9a",
       "version_major": 2,
       "version_minor": 0
      },
      "text/plain": [
       "Batches:   0%|          | 0/7 [00:00<?, ?it/s]"
      ]
     },
     "metadata": {},
     "output_type": "display_data"
    },
    {
     "data": {
      "application/vnd.jupyter.widget-view+json": {
       "model_id": "4826e1dbb1604198a8a1b8cf6927a601",
       "version_major": 2,
       "version_minor": 0
      },
      "text/plain": [
       "Batches:   0%|          | 0/41 [00:00<?, ?it/s]"
      ]
     },
     "metadata": {},
     "output_type": "display_data"
    },
    {
     "data": {
      "application/vnd.jupyter.widget-view+json": {
       "model_id": "92bf4da546624cacbe4475e2dd4f5b11",
       "version_major": 2,
       "version_minor": 0
      },
      "text/plain": [
       "Batches:   0%|          | 0/3 [00:00<?, ?it/s]"
      ]
     },
     "metadata": {},
     "output_type": "display_data"
    },
    {
     "data": {
      "application/vnd.jupyter.widget-view+json": {
       "model_id": "a6f9602574dc4a93b1e94c8687224725",
       "version_major": 2,
       "version_minor": 0
      },
      "text/plain": [
       "Batches:   0%|          | 0/41 [00:00<?, ?it/s]"
      ]
     },
     "metadata": {},
     "output_type": "display_data"
    },
    {
     "data": {
      "text/html": [
       "<pre style=\"white-space:pre;overflow-x:auto;line-height:normal;font-family:Menlo,'DejaVu Sans Mono',consolas,'Courier New',monospace\"><span style=\"color: #262626; text-decoration-color: #262626\">───────────────────────────────────────────────── </span><span style=\"font-weight: bold\">Selected tasks </span><span style=\"color: #262626; text-decoration-color: #262626\"> ─────────────────────────────────────────────────</span>\n",
       "</pre>\n"
      ],
      "text/plain": [
       "\u001b[38;5;235m───────────────────────────────────────────────── \u001b[0m\u001b[1mSelected tasks \u001b[0m\u001b[38;5;235m ─────────────────────────────────────────────────\u001b[0m\n"
      ]
     },
     "metadata": {},
     "output_type": "display_data"
    },
    {
     "data": {
      "text/html": [
       "<pre style=\"white-space:pre;overflow-x:auto;line-height:normal;font-family:Menlo,'DejaVu Sans Mono',consolas,'Courier New',monospace\"><span style=\"font-weight: bold\">Retrieval</span>\n",
       "</pre>\n"
      ],
      "text/plain": [
       "\u001b[1mRetrieval\u001b[0m\n"
      ]
     },
     "metadata": {},
     "output_type": "display_data"
    },
    {
     "data": {
      "text/html": [
       "<pre style=\"white-space:pre;overflow-x:auto;line-height:normal;font-family:Menlo,'DejaVu Sans Mono',consolas,'Courier New',monospace\">    - SciFact, <span style=\"color: #626262; text-decoration-color: #626262; font-style: italic\">s2p</span>\n",
       "</pre>\n"
      ],
      "text/plain": [
       "    - SciFact, \u001b[3;38;5;241ms2p\u001b[0m\n"
      ]
     },
     "metadata": {},
     "output_type": "display_data"
    },
    {
     "data": {
      "text/html": [
       "<pre style=\"white-space:pre;overflow-x:auto;line-height:normal;font-family:Menlo,'DejaVu Sans Mono',consolas,'Courier New',monospace\">\n",
       "\n",
       "</pre>\n"
      ],
      "text/plain": [
       "\n",
       "\n"
      ]
     },
     "metadata": {},
     "output_type": "display_data"
    },
    {
     "data": {
      "application/vnd.jupyter.widget-view+json": {
       "model_id": "5d7f3460c4c543c496a1743ff1306c89",
       "version_major": 2,
       "version_minor": 0
      },
      "text/plain": [
       "Batches:   0%|          | 0/7 [00:00<?, ?it/s]"
      ]
     },
     "metadata": {},
     "output_type": "display_data"
    },
    {
     "data": {
      "application/vnd.jupyter.widget-view+json": {
       "model_id": "d78095a9da4f4cdc80b338e94545b706",
       "version_major": 2,
       "version_minor": 0
      },
      "text/plain": [
       "Batches:   0%|          | 0/41 [00:00<?, ?it/s]"
      ]
     },
     "metadata": {},
     "output_type": "display_data"
    },
    {
     "data": {
      "application/vnd.jupyter.widget-view+json": {
       "model_id": "dc43290608bd4fc3badf1ad3b0faccce",
       "version_major": 2,
       "version_minor": 0
      },
      "text/plain": [
       "Batches:   0%|          | 0/3 [00:00<?, ?it/s]"
      ]
     },
     "metadata": {},
     "output_type": "display_data"
    },
    {
     "data": {
      "application/vnd.jupyter.widget-view+json": {
       "model_id": "ad40b32986cb451485672b4d21caf19c",
       "version_major": 2,
       "version_minor": 0
      },
      "text/plain": [
       "Batches:   0%|          | 0/41 [00:00<?, ?it/s]"
      ]
     },
     "metadata": {},
     "output_type": "display_data"
    },
    {
     "data": {
      "text/html": [
       "<pre style=\"white-space:pre;overflow-x:auto;line-height:normal;font-family:Menlo,'DejaVu Sans Mono',consolas,'Courier New',monospace\"><span style=\"color: #262626; text-decoration-color: #262626\">───────────────────────────────────────────────── </span><span style=\"font-weight: bold\">Selected tasks </span><span style=\"color: #262626; text-decoration-color: #262626\"> ─────────────────────────────────────────────────</span>\n",
       "</pre>\n"
      ],
      "text/plain": [
       "\u001b[38;5;235m───────────────────────────────────────────────── \u001b[0m\u001b[1mSelected tasks \u001b[0m\u001b[38;5;235m ─────────────────────────────────────────────────\u001b[0m\n"
      ]
     },
     "metadata": {},
     "output_type": "display_data"
    },
    {
     "data": {
      "text/html": [
       "<pre style=\"white-space:pre;overflow-x:auto;line-height:normal;font-family:Menlo,'DejaVu Sans Mono',consolas,'Courier New',monospace\"><span style=\"font-weight: bold\">Retrieval</span>\n",
       "</pre>\n"
      ],
      "text/plain": [
       "\u001b[1mRetrieval\u001b[0m\n"
      ]
     },
     "metadata": {},
     "output_type": "display_data"
    },
    {
     "data": {
      "text/html": [
       "<pre style=\"white-space:pre;overflow-x:auto;line-height:normal;font-family:Menlo,'DejaVu Sans Mono',consolas,'Courier New',monospace\">    - SciFact, <span style=\"color: #626262; text-decoration-color: #626262; font-style: italic\">s2p</span>\n",
       "</pre>\n"
      ],
      "text/plain": [
       "    - SciFact, \u001b[3;38;5;241ms2p\u001b[0m\n"
      ]
     },
     "metadata": {},
     "output_type": "display_data"
    },
    {
     "data": {
      "text/html": [
       "<pre style=\"white-space:pre;overflow-x:auto;line-height:normal;font-family:Menlo,'DejaVu Sans Mono',consolas,'Courier New',monospace\">\n",
       "\n",
       "</pre>\n"
      ],
      "text/plain": [
       "\n",
       "\n"
      ]
     },
     "metadata": {},
     "output_type": "display_data"
    },
    {
     "data": {
      "application/vnd.jupyter.widget-view+json": {
       "model_id": "c74f3b564f7d48acbc21afbea163ca8e",
       "version_major": 2,
       "version_minor": 0
      },
      "text/plain": [
       "Batches:   0%|          | 0/7 [00:00<?, ?it/s]"
      ]
     },
     "metadata": {},
     "output_type": "display_data"
    },
    {
     "data": {
      "application/vnd.jupyter.widget-view+json": {
       "model_id": "7a2e646b130047a494a73a8798da0987",
       "version_major": 2,
       "version_minor": 0
      },
      "text/plain": [
       "Batches:   0%|          | 0/41 [00:00<?, ?it/s]"
      ]
     },
     "metadata": {},
     "output_type": "display_data"
    },
    {
     "data": {
      "application/vnd.jupyter.widget-view+json": {
       "model_id": "6fe3c5cee3894c3f8d57063e910acfb0",
       "version_major": 2,
       "version_minor": 0
      },
      "text/plain": [
       "Batches:   0%|          | 0/3 [00:00<?, ?it/s]"
      ]
     },
     "metadata": {},
     "output_type": "display_data"
    },
    {
     "data": {
      "application/vnd.jupyter.widget-view+json": {
       "model_id": "0f55f30a84a44a208576b211e0fd3ec1",
       "version_major": 2,
       "version_minor": 0
      },
      "text/plain": [
       "Batches:   0%|          | 0/41 [00:00<?, ?it/s]"
      ]
     },
     "metadata": {},
     "output_type": "display_data"
    }
   ],
   "source": [
    "matr_adaptor_results_diff_m_values = []\n",
    "model = SentenceTransformerwMatryoskaAdaptor(base_encoder, adaptor=matryoshka_adaptor)\n",
    "\n",
    "for m_value in m_values:\n",
    "    model.truncate_dim = m_value\n",
    "    # Run the evaluation\n",
    "    matr_adaptor_results_diff_m_values.append(benchmark.run(model, output_folder=None))\n",
    "del model"
   ]
  },
  {
   "cell_type": "code",
   "execution_count": 21,
   "id": "1291c9c0-cd8d-4d39-8088-3448502e6f99",
   "metadata": {},
   "outputs": [],
   "source": [
    "matr_adaptor_y_values = [\n",
    "    mres[0].scores[\"test\"][0][\"ndcg_at_10\"]\n",
    "    for mres in matr_adaptor_results_diff_m_values\n",
    "]"
   ]
  },
  {
   "cell_type": "markdown",
   "id": "4fcf447f-e62c-4c0b-9d46-b2fef45f0c83",
   "metadata": {},
   "source": [
    "### Plot Results"
   ]
  },
  {
   "cell_type": "code",
   "execution_count": 25,
   "id": "ad22da3d-154f-4486-8365-ac638056e982",
   "metadata": {},
   "outputs": [
    {
     "data": {
      "text/plain": [
       "<matplotlib.legend.Legend at 0x7fbbb796ec70>"
      ]
     },
     "execution_count": 25,
     "metadata": {},
     "output_type": "execute_result"
    },
    {
     "data": {
      "image/png": "[encoded data removed]",
      "text/plain": [
       "<Figure size 640x480 with 1 Axes>"
      ]
     },
     "metadata": {},
     "output_type": "display_data"
    }
   ],
   "source": [
    "# 3 losses with SwiGLU adaptor\n",
    "plt.title(f\"Comparison on {eval_dataset_name}\")\n",
    "plt.xlabel(\"Embedding Dimensions\")\n",
    "plt.ylabel(\"NDCG@10\")\n",
    "\n",
    "plt.plot(m_values, baseline_y_values, label=\"Baseline Encoder\")\n",
    "plt.scatter(m_values, baseline_y_values)\n",
    "\n",
    "plt.plot(m_values, matr_adaptor_y_values, label=\"Matryshka Adaptor, Unsupervised\")\n",
    "plt.scatter(m_values, matr_adaptor_y_values)\n",
    "\n",
    "plt.legend()"
   ]
  }
 ],
 "metadata": {
  "kernelspec": {
   "display_name": "Python 3 (ipykernel)",
   "language": "python",
   "name": "python3"
  },
  "language_info": {
   "codemirror_mode": {
    "name": "ipython",
    "version": 3
   },
   "file_extension": ".py",
   "mimetype": "text/x-python",
   "name": "python",
   "nbconvert_exporter": "python",
   "pygments_lexer": "ipython3",
   "version": "3.9.19"
  }
 },
 "nbformat": 4,
 "nbformat_minor": 5
}
